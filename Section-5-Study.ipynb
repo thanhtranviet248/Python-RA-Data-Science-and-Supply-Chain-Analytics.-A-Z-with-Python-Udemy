{
 "cells": [
  {
   "cell_type": "code",
   "execution_count": 1,
   "id": "ded41c36-07a9-4d0b-ba2e-cf74c83b1e71",
   "metadata": {},
   "outputs": [],
   "source": [
    "#import libraries\n",
    "import numpy as np\n",
    "import pandas as pd\n",
    "import statistics as stats\n",
    "import seaborn as sns\n",
    "from sklearn.linear_model import LinearRegression"
   ]
  },
  {
   "cell_type": "code",
   "execution_count": 2,
   "id": "c6f67491-935b-4bf4-9bfb-7a69ac057cea",
   "metadata": {},
   "outputs": [
    {
     "name": "stdout",
     "output_type": "stream",
     "text": [
      "251.736\n",
      "251.736\n",
      "255.0\n",
      "297.0\n",
      "142.1606836082465\n",
      "497.0\n",
      "20209.659963963964\n"
     ]
    }
   ],
   "source": [
    "#simulation of data\n",
    "pinapple_juice = np.random.uniform(2,500,1000).round()\n",
    "\n",
    "#mean\n",
    "print(pinapple_juice.mean())\n",
    "print(stats.mean(pinapple_juice))\n",
    "\n",
    "#median\n",
    "print(stats.median(pinapple_juice))\n",
    "\n",
    "#mode\n",
    "print(stats.mode(pinapple_juice))\n",
    "\n",
    "#standard deviation\n",
    "print(stats.stdev(pinapple_juice))\n",
    "\n",
    "#range of the data\n",
    "def range_data(data):\n",
    "  a = max(data) - min(data)\n",
    "  return a\n",
    "\n",
    "print(range_data(pinapple_juice))\n",
    "\n",
    "#variance\n",
    "print(stats.variance(pinapple_juice))"
   ]
  },
  {
   "cell_type": "code",
   "execution_count": 3,
   "id": "98287d2d-480c-4476-9a6a-81f80873d0c5",
   "metadata": {},
   "outputs": [
    {
     "name": "stdout",
     "output_type": "stream",
     "text": [
      "129.0\n",
      "255.0\n",
      "374.0\n"
     ]
    }
   ],
   "source": [
    "#percentile\n",
    "print(np.percentile(pinapple_juice,25))\n",
    "print(np.percentile(pinapple_juice,50))\n",
    "print(np.percentile(pinapple_juice,75))"
   ]
  },
  {
   "cell_type": "code",
   "execution_count": 4,
   "id": "66ee66ba-f817-45db-b326-97324871ca97",
   "metadata": {},
   "outputs": [
    {
     "name": "stdout",
     "output_type": "stream",
     "text": [
      "<class 'pandas.core.frame.DataFrame'>\n",
      "RangeIndex: 428 entries, 0 to 427\n",
      "Data columns (total 19 columns):\n",
      " #   Column                    Non-Null Count  Dtype  \n",
      "---  ------                    --------------  -----  \n",
      " 0   name                      428 non-null    object \n",
      " 1   sports_car                428 non-null    bool   \n",
      " 2   suv                       428 non-null    bool   \n",
      " 3   wagon                     428 non-null    bool   \n",
      " 4   minivan                   428 non-null    bool   \n",
      " 5   pickup                    428 non-null    bool   \n",
      " 6   all_wheel                 428 non-null    bool   \n",
      " 7   rear_wheel                428 non-null    bool   \n",
      " 8   Price                     428 non-null    int64  \n",
      " 9   Dealer_Cost               428 non-null    int64  \n",
      " 10  Engine_size               428 non-null    float64\n",
      " 11  cylenders                 428 non-null    int64  \n",
      " 12  horsepower                428 non-null    int64  \n",
      " 13  city_miles_per_galloon    414 non-null    float64\n",
      " 14  highway_miles_per_Gallon  414 non-null    float64\n",
      " 15  weight                    426 non-null    float64\n",
      " 16  base_wheeel               426 non-null    float64\n",
      " 17  length                    402 non-null    float64\n",
      " 18  width                     400 non-null    float64\n",
      "dtypes: bool(7), float64(7), int64(4), object(1)\n",
      "memory usage: 43.2+ KB\n",
      "None\n",
      "               Price    Dealer_Cost  Engine_size   cylenders  horsepower  \\\n",
      "count     428.000000     428.000000   428.000000  428.000000  428.000000   \n",
      "mean    32774.855140   30014.700935     3.196729    5.775701  215.885514   \n",
      "std     19431.716674   17642.117750     1.108595    1.622779   71.836032   \n",
      "min     10280.000000    9875.000000     1.300000   -1.000000   73.000000   \n",
      "25%     20334.250000   18866.000000     2.375000    4.000000  165.000000   \n",
      "50%     27635.000000   25294.500000     3.000000    6.000000  210.000000   \n",
      "75%     39205.000000   35710.250000     3.900000    6.000000  255.000000   \n",
      "max    192465.000000  173560.000000     8.300000   12.000000  500.000000   \n",
      "\n",
      "       city_miles_per_galloon  highway_miles_per_Gallon       weight  \\\n",
      "count              414.000000                414.000000   426.000000   \n",
      "mean                20.089372                 26.905797  3577.213615   \n",
      "std                  5.213062                  5.696804   760.437663   \n",
      "min                 10.000000                 12.000000  1850.000000   \n",
      "25%                 17.000000                 24.000000  3102.000000   \n",
      "50%                 19.000000                 26.000000  3474.500000   \n",
      "75%                 21.000000                 29.000000  3974.250000   \n",
      "max                 60.000000                 66.000000  7190.000000   \n",
      "\n",
      "       base_wheeel      length       width  \n",
      "count   426.000000  402.000000  400.000000  \n",
      "mean    108.173709  185.126866   71.292500  \n",
      "std       8.326449   13.312523    3.393484  \n",
      "min      89.000000  143.000000   64.000000  \n",
      "25%     103.000000  177.000000   69.000000  \n",
      "50%     107.000000  186.000000   71.000000  \n",
      "75%     112.000000  193.000000   73.000000  \n",
      "max     144.000000  227.000000   81.000000  \n"
     ]
    }
   ],
   "source": [
    "#correlation\n",
    "cars = pd.read_csv(\"cars.csv\")\n",
    "print(cars.info())\n",
    "print(cars.describe())"
   ]
  },
  {
   "cell_type": "code",
   "execution_count": 5,
   "id": "016dda2d-a549-45c9-aa96-ae0520862cd8",
   "metadata": {},
   "outputs": [
    {
     "data": {
      "text/html": [
       "<div>\n",
       "<style scoped>\n",
       "    .dataframe tbody tr th:only-of-type {\n",
       "        vertical-align: middle;\n",
       "    }\n",
       "\n",
       "    .dataframe tbody tr th {\n",
       "        vertical-align: top;\n",
       "    }\n",
       "\n",
       "    .dataframe thead th {\n",
       "        text-align: right;\n",
       "    }\n",
       "</style>\n",
       "<table border=\"1\" class=\"dataframe\">\n",
       "  <thead>\n",
       "    <tr style=\"text-align: right;\">\n",
       "      <th></th>\n",
       "      <th>name</th>\n",
       "      <th>sports_car</th>\n",
       "      <th>suv</th>\n",
       "      <th>wagon</th>\n",
       "      <th>minivan</th>\n",
       "      <th>pickup</th>\n",
       "      <th>all_wheel</th>\n",
       "      <th>rear_wheel</th>\n",
       "      <th>Price</th>\n",
       "      <th>Dealer_Cost</th>\n",
       "      <th>Engine_size</th>\n",
       "      <th>cylenders</th>\n",
       "      <th>horsepower</th>\n",
       "      <th>city_miles_per_galloon</th>\n",
       "      <th>highway_miles_per_Gallon</th>\n",
       "      <th>weight</th>\n",
       "      <th>base_wheeel</th>\n",
       "      <th>length</th>\n",
       "      <th>width</th>\n",
       "    </tr>\n",
       "  </thead>\n",
       "  <tbody>\n",
       "    <tr>\n",
       "      <th>0</th>\n",
       "      <td>Chevrolet Aveo 4dr</td>\n",
       "      <td>False</td>\n",
       "      <td>False</td>\n",
       "      <td>False</td>\n",
       "      <td>False</td>\n",
       "      <td>False</td>\n",
       "      <td>False</td>\n",
       "      <td>False</td>\n",
       "      <td>11690</td>\n",
       "      <td>10965</td>\n",
       "      <td>1.6</td>\n",
       "      <td>4</td>\n",
       "      <td>103</td>\n",
       "      <td>28.0</td>\n",
       "      <td>34.0</td>\n",
       "      <td>2370.0</td>\n",
       "      <td>98.0</td>\n",
       "      <td>167.0</td>\n",
       "      <td>66.0</td>\n",
       "    </tr>\n",
       "    <tr>\n",
       "      <th>1</th>\n",
       "      <td>Chevrolet Aveo LS 4dr hatch</td>\n",
       "      <td>False</td>\n",
       "      <td>False</td>\n",
       "      <td>False</td>\n",
       "      <td>False</td>\n",
       "      <td>False</td>\n",
       "      <td>False</td>\n",
       "      <td>False</td>\n",
       "      <td>12585</td>\n",
       "      <td>11802</td>\n",
       "      <td>1.6</td>\n",
       "      <td>4</td>\n",
       "      <td>103</td>\n",
       "      <td>28.0</td>\n",
       "      <td>34.0</td>\n",
       "      <td>2348.0</td>\n",
       "      <td>98.0</td>\n",
       "      <td>153.0</td>\n",
       "      <td>66.0</td>\n",
       "    </tr>\n",
       "    <tr>\n",
       "      <th>2</th>\n",
       "      <td>Chevrolet Cavalier 2dr</td>\n",
       "      <td>False</td>\n",
       "      <td>False</td>\n",
       "      <td>False</td>\n",
       "      <td>False</td>\n",
       "      <td>False</td>\n",
       "      <td>False</td>\n",
       "      <td>False</td>\n",
       "      <td>14610</td>\n",
       "      <td>13697</td>\n",
       "      <td>2.2</td>\n",
       "      <td>4</td>\n",
       "      <td>140</td>\n",
       "      <td>26.0</td>\n",
       "      <td>37.0</td>\n",
       "      <td>2617.0</td>\n",
       "      <td>104.0</td>\n",
       "      <td>183.0</td>\n",
       "      <td>69.0</td>\n",
       "    </tr>\n",
       "    <tr>\n",
       "      <th>3</th>\n",
       "      <td>Chevrolet Cavalier 4dr</td>\n",
       "      <td>False</td>\n",
       "      <td>False</td>\n",
       "      <td>False</td>\n",
       "      <td>False</td>\n",
       "      <td>False</td>\n",
       "      <td>False</td>\n",
       "      <td>False</td>\n",
       "      <td>14810</td>\n",
       "      <td>13884</td>\n",
       "      <td>2.2</td>\n",
       "      <td>4</td>\n",
       "      <td>140</td>\n",
       "      <td>26.0</td>\n",
       "      <td>37.0</td>\n",
       "      <td>2676.0</td>\n",
       "      <td>104.0</td>\n",
       "      <td>183.0</td>\n",
       "      <td>68.0</td>\n",
       "    </tr>\n",
       "    <tr>\n",
       "      <th>4</th>\n",
       "      <td>Chevrolet Cavalier LS 2dr</td>\n",
       "      <td>False</td>\n",
       "      <td>False</td>\n",
       "      <td>False</td>\n",
       "      <td>False</td>\n",
       "      <td>False</td>\n",
       "      <td>False</td>\n",
       "      <td>False</td>\n",
       "      <td>16385</td>\n",
       "      <td>15357</td>\n",
       "      <td>2.2</td>\n",
       "      <td>4</td>\n",
       "      <td>140</td>\n",
       "      <td>26.0</td>\n",
       "      <td>37.0</td>\n",
       "      <td>2617.0</td>\n",
       "      <td>104.0</td>\n",
       "      <td>183.0</td>\n",
       "      <td>69.0</td>\n",
       "    </tr>\n",
       "  </tbody>\n",
       "</table>\n",
       "</div>"
      ],
      "text/plain": [
       "                          name  sports_car    suv  wagon  minivan  pickup  \\\n",
       "0           Chevrolet Aveo 4dr       False  False  False    False   False   \n",
       "1  Chevrolet Aveo LS 4dr hatch       False  False  False    False   False   \n",
       "2       Chevrolet Cavalier 2dr       False  False  False    False   False   \n",
       "3       Chevrolet Cavalier 4dr       False  False  False    False   False   \n",
       "4    Chevrolet Cavalier LS 2dr       False  False  False    False   False   \n",
       "\n",
       "   all_wheel  rear_wheel  Price  Dealer_Cost  Engine_size  cylenders  \\\n",
       "0      False       False  11690        10965          1.6          4   \n",
       "1      False       False  12585        11802          1.6          4   \n",
       "2      False       False  14610        13697          2.2          4   \n",
       "3      False       False  14810        13884          2.2          4   \n",
       "4      False       False  16385        15357          2.2          4   \n",
       "\n",
       "   horsepower  city_miles_per_galloon  highway_miles_per_Gallon  weight  \\\n",
       "0         103                    28.0                      34.0  2370.0   \n",
       "1         103                    28.0                      34.0  2348.0   \n",
       "2         140                    26.0                      37.0  2617.0   \n",
       "3         140                    26.0                      37.0  2676.0   \n",
       "4         140                    26.0                      37.0  2617.0   \n",
       "\n",
       "   base_wheeel  length  width  \n",
       "0         98.0   167.0   66.0  \n",
       "1         98.0   153.0   66.0  \n",
       "2        104.0   183.0   69.0  \n",
       "3        104.0   183.0   68.0  \n",
       "4        104.0   183.0   69.0  "
      ]
     },
     "execution_count": 5,
     "metadata": {},
     "output_type": "execute_result"
    }
   ],
   "source": [
    "cars.head(5)"
   ]
  },
  {
   "cell_type": "code",
   "execution_count": 6,
   "id": "cee3e273-1286-47cf-85ac-cbff4ccd375a",
   "metadata": {},
   "outputs": [
    {
     "data": {
      "text/html": [
       "<div>\n",
       "<style scoped>\n",
       "    .dataframe tbody tr th:only-of-type {\n",
       "        vertical-align: middle;\n",
       "    }\n",
       "\n",
       "    .dataframe tbody tr th {\n",
       "        vertical-align: top;\n",
       "    }\n",
       "\n",
       "    .dataframe thead th {\n",
       "        text-align: right;\n",
       "    }\n",
       "</style>\n",
       "<table border=\"1\" class=\"dataframe\">\n",
       "  <thead>\n",
       "    <tr style=\"text-align: right;\">\n",
       "      <th></th>\n",
       "      <th>horsepower</th>\n",
       "      <th>city_miles_per_galloon</th>\n",
       "    </tr>\n",
       "  </thead>\n",
       "  <tbody>\n",
       "    <tr>\n",
       "      <th>horsepower</th>\n",
       "      <td>1.000000</td>\n",
       "      <td>-0.666256</td>\n",
       "    </tr>\n",
       "    <tr>\n",
       "      <th>city_miles_per_galloon</th>\n",
       "      <td>-0.666256</td>\n",
       "      <td>1.000000</td>\n",
       "    </tr>\n",
       "  </tbody>\n",
       "</table>\n",
       "</div>"
      ],
      "text/plain": [
       "                        horsepower  city_miles_per_galloon\n",
       "horsepower                1.000000               -0.666256\n",
       "city_miles_per_galloon   -0.666256                1.000000"
      ]
     },
     "execution_count": 6,
     "metadata": {},
     "output_type": "execute_result"
    }
   ],
   "source": [
    "cars_correlation = cars.loc[:,[\"horsepower\",\"city_miles_per_galloon\"]]\n",
    "cars_correlation.corr()"
   ]
  },
  {
   "cell_type": "code",
   "execution_count": 7,
   "id": "3d0bb4c9-fca0-4b1f-9951-968645dbdd7f",
   "metadata": {},
   "outputs": [
    {
     "data": {
      "text/html": [
       "<div>\n",
       "<style scoped>\n",
       "    .dataframe tbody tr th:only-of-type {\n",
       "        vertical-align: middle;\n",
       "    }\n",
       "\n",
       "    .dataframe tbody tr th {\n",
       "        vertical-align: top;\n",
       "    }\n",
       "\n",
       "    .dataframe thead th {\n",
       "        text-align: right;\n",
       "    }\n",
       "</style>\n",
       "<table border=\"1\" class=\"dataframe\">\n",
       "  <thead>\n",
       "    <tr style=\"text-align: right;\">\n",
       "      <th></th>\n",
       "      <th>Price</th>\n",
       "      <th>horsepower</th>\n",
       "      <th>city_miles_per_galloon</th>\n",
       "      <th>weight</th>\n",
       "      <th>length</th>\n",
       "    </tr>\n",
       "  </thead>\n",
       "  <tbody>\n",
       "    <tr>\n",
       "      <th>Price</th>\n",
       "      <td>1.000000</td>\n",
       "      <td>0.826945</td>\n",
       "      <td>-0.461130</td>\n",
       "      <td>0.449336</td>\n",
       "      <td>0.214889</td>\n",
       "    </tr>\n",
       "    <tr>\n",
       "      <th>horsepower</th>\n",
       "      <td>0.826945</td>\n",
       "      <td>1.000000</td>\n",
       "      <td>-0.666256</td>\n",
       "      <td>0.631525</td>\n",
       "      <td>0.379936</td>\n",
       "    </tr>\n",
       "    <tr>\n",
       "      <th>city_miles_per_galloon</th>\n",
       "      <td>-0.461130</td>\n",
       "      <td>-0.666256</td>\n",
       "      <td>1.000000</td>\n",
       "      <td>-0.737192</td>\n",
       "      <td>-0.464826</td>\n",
       "    </tr>\n",
       "    <tr>\n",
       "      <th>weight</th>\n",
       "      <td>0.449336</td>\n",
       "      <td>0.631525</td>\n",
       "      <td>-0.737192</td>\n",
       "      <td>1.000000</td>\n",
       "      <td>0.667169</td>\n",
       "    </tr>\n",
       "    <tr>\n",
       "      <th>length</th>\n",
       "      <td>0.214889</td>\n",
       "      <td>0.379936</td>\n",
       "      <td>-0.464826</td>\n",
       "      <td>0.667169</td>\n",
       "      <td>1.000000</td>\n",
       "    </tr>\n",
       "  </tbody>\n",
       "</table>\n",
       "</div>"
      ],
      "text/plain": [
       "                           Price  horsepower  city_miles_per_galloon  \\\n",
       "Price                   1.000000    0.826945               -0.461130   \n",
       "horsepower              0.826945    1.000000               -0.666256   \n",
       "city_miles_per_galloon -0.461130   -0.666256                1.000000   \n",
       "weight                  0.449336    0.631525               -0.737192   \n",
       "length                  0.214889    0.379936               -0.464826   \n",
       "\n",
       "                          weight    length  \n",
       "Price                   0.449336  0.214889  \n",
       "horsepower              0.631525  0.379936  \n",
       "city_miles_per_galloon -0.737192 -0.464826  \n",
       "weight                  1.000000  0.667169  \n",
       "length                  0.667169  1.000000  "
      ]
     },
     "execution_count": 7,
     "metadata": {},
     "output_type": "execute_result"
    }
   ],
   "source": [
    "cars.loc[:,[\"Price\",\"horsepower\",\"city_miles_per_galloon\",\"weight\",\"length\"]].corr()"
   ]
  },
  {
   "cell_type": "code",
   "execution_count": 8,
   "id": "9d5b9573-7d9f-4967-98e4-9afa80166e2f",
   "metadata": {},
   "outputs": [
    {
     "data": {
      "text/plain": [
       "(387, 19)"
      ]
     },
     "execution_count": 8,
     "metadata": {},
     "output_type": "execute_result"
    }
   ],
   "source": [
    "cars_clean = cars.dropna(axis=0)\n",
    "cars_clean.shape"
   ]
  },
  {
   "cell_type": "code",
   "execution_count": 9,
   "id": "a1f36b1a-db12-4ea1-8aea-6ee7b2d2dbf0",
   "metadata": {},
   "outputs": [],
   "source": [
    "corr_data = cars_clean.loc[:,[\"Price\",\"horsepower\",\"city_miles_per_galloon\",\"weight\",\"length\"]].corr()"
   ]
  },
  {
   "cell_type": "code",
   "execution_count": 10,
   "id": "a6d2289f-a1be-4074-ba53-fa542d3f19a6",
   "metadata": {},
   "outputs": [
    {
     "data": {
      "text/plain": [
       "<Axes: >"
      ]
     },
     "execution_count": 10,
     "metadata": {},
     "output_type": "execute_result"
    },
    {
     "data": {
      "image/png": "[encoded data removed]",
      "text/plain": [
       "<Figure size 640x480 with 2 Axes>"
      ]
     },
     "metadata": {},
     "output_type": "display_data"
    }
   ],
   "source": [
    "sns.heatmap(corr_data)"
   ]
  },
  {
   "cell_type": "code",
   "execution_count": 11,
   "id": "b838022c-25fb-4cf4-82f2-c71cc42e20d4",
   "metadata": {},
   "outputs": [
    {
     "name": "stdout",
     "output_type": "stream",
     "text": [
      "First percentile is 20334.25\n",
      "Third percentile is 39205.0\n"
     ]
    }
   ],
   "source": [
    "price = cars[\"Price\"]\n",
    "\n",
    "first_percentile = np.percentile(price,25)\n",
    "print(f\"First percentile is {first_percentile}\")\n",
    "\n",
    "third_pecentile = np.percentile(price,75)\n",
    "print(f\"Third percentile is {third_pecentile}\")\n",
    "\n",
    "IQR = third_pecentile - first_percentile"
   ]
  },
  {
   "cell_type": "code",
   "execution_count": 12,
   "id": "c3a79c46-1972-4a3c-b028-7b87530461b8",
   "metadata": {},
   "outputs": [
    {
     "name": "stderr",
     "output_type": "stream",
     "text": [
      "C:\\Users\\thanh\\AppData\\Local\\Temp\\ipykernel_17504\\1971744299.py:6: SettingWithCopyWarning: \n",
      "A value is trying to be set on a copy of a slice from a DataFrame\n",
      "\n",
      "See the caveats in the documentation: https://pandas.pydata.org/pandas-docs/stable/user_guide/indexing.html#returning-a-view-versus-a-copy\n",
      "  else: cars[\"check_outlier\"][i] = \"normal\"\n",
      "C:\\Users\\thanh\\AppData\\Local\\Temp\\ipykernel_17504\\1971744299.py:6: FutureWarning: Setting an item of incompatible dtype is deprecated and will raise in a future error of pandas. Value 'normal' has dtype incompatible with float64, please explicitly cast to a compatible dtype first.\n",
      "  else: cars[\"check_outlier\"][i] = \"normal\"\n"
     ]
    }
   ],
   "source": [
    "def check_outlier(price):\n",
    "  cars[\"check_outlier\"]=np.nan\n",
    "  for i in range (0,len(price)):\n",
    "    if price[i] <= first_percentile - IQR*1.5: cars[\"check_outlier\"][i] = \"low outlier\"\n",
    "    elif price[i] >= third_pecentile + IQR*1.5: cars[\"check_outlier\"][i] = \"high outlier\"\n",
    "    else: cars[\"check_outlier\"][i] = \"normal\"\n",
    "\n",
    "check_outlier(price)"
   ]
  },
  {
   "cell_type": "code",
   "execution_count": 13,
   "id": "f3fc91ca-8283-4b7e-9410-cb949aed4325",
   "metadata": {},
   "outputs": [
    {
     "name": "stdout",
     "output_type": "stream",
     "text": [
      "                          name  sports_car    suv  wagon  minivan  pickup  \\\n",
      "0           Chevrolet Aveo 4dr       False  False  False    False   False   \n",
      "1  Chevrolet Aveo LS 4dr hatch       False  False  False    False   False   \n",
      "2       Chevrolet Cavalier 2dr       False  False  False    False   False   \n",
      "3       Chevrolet Cavalier 4dr       False  False  False    False   False   \n",
      "4    Chevrolet Cavalier LS 2dr       False  False  False    False   False   \n",
      "\n",
      "   all_wheel  rear_wheel  Price  Dealer_Cost  Engine_size  cylenders  \\\n",
      "0      False       False  11690        10965          1.6          4   \n",
      "1      False       False  12585        11802          1.6          4   \n",
      "2      False       False  14610        13697          2.2          4   \n",
      "3      False       False  14810        13884          2.2          4   \n",
      "4      False       False  16385        15357          2.2          4   \n",
      "\n",
      "   horsepower  city_miles_per_galloon  highway_miles_per_Gallon  weight  \\\n",
      "0         103                    28.0                      34.0  2370.0   \n",
      "1         103                    28.0                      34.0  2348.0   \n",
      "2         140                    26.0                      37.0  2617.0   \n",
      "3         140                    26.0                      37.0  2676.0   \n",
      "4         140                    26.0                      37.0  2617.0   \n",
      "\n",
      "   base_wheeel  length  width check_outlier  \n",
      "0         98.0   167.0   66.0        normal  \n",
      "1         98.0   153.0   66.0        normal  \n",
      "2        104.0   183.0   69.0        normal  \n",
      "3        104.0   183.0   68.0        normal  \n",
      "4        104.0   183.0   69.0        normal  \n",
      "(428, 20)\n"
     ]
    }
   ],
   "source": [
    "cars[\"check_outlier\"].value_counts()\n",
    "print(cars.head(5))\n",
    "print(cars.shape)"
   ]
  },
  {
   "cell_type": "code",
   "execution_count": 14,
   "id": "bb176cfd-37c5-4191-b327-87976cc5724a",
   "metadata": {},
   "outputs": [
    {
     "name": "stdout",
     "output_type": "stream",
     "text": [
      "                          name  sports_car    suv  wagon  minivan  pickup  \\\n",
      "0           Chevrolet Aveo 4dr       False  False  False    False   False   \n",
      "1  Chevrolet Aveo LS 4dr hatch       False  False  False    False   False   \n",
      "2       Chevrolet Cavalier 2dr       False  False  False    False   False   \n",
      "3       Chevrolet Cavalier 4dr       False  False  False    False   False   \n",
      "4    Chevrolet Cavalier LS 2dr       False  False  False    False   False   \n",
      "\n",
      "   all_wheel  rear_wheel  Price  Dealer_Cost  Engine_size  cylenders  \\\n",
      "0      False       False  11690        10965          1.6          4   \n",
      "1      False       False  12585        11802          1.6          4   \n",
      "2      False       False  14610        13697          2.2          4   \n",
      "3      False       False  14810        13884          2.2          4   \n",
      "4      False       False  16385        15357          2.2          4   \n",
      "\n",
      "   horsepower  city_miles_per_galloon  highway_miles_per_Gallon  weight  \\\n",
      "0         103                    28.0                      34.0  2370.0   \n",
      "1         103                    28.0                      34.0  2348.0   \n",
      "2         140                    26.0                      37.0  2617.0   \n",
      "3         140                    26.0                      37.0  2676.0   \n",
      "4         140                    26.0                      37.0  2617.0   \n",
      "\n",
      "   base_wheeel  length  width check_outlier  \n",
      "0         98.0   167.0   66.0        normal  \n",
      "1         98.0   153.0   66.0        normal  \n",
      "2        104.0   183.0   69.0        normal  \n",
      "3        104.0   183.0   68.0        normal  \n",
      "4        104.0   183.0   69.0        normal  \n",
      "(401, 20)\n"
     ]
    }
   ],
   "source": [
    "cars_no_outlier = cars[cars[\"check_outlier\"]==\"normal\"]\n",
    "print(cars_no_outlier.head(5))\n",
    "print(cars_no_outlier.shape)"
   ]
  },
  {
   "cell_type": "code",
   "execution_count": 15,
   "id": "e84ad681-3384-47bd-841b-df4d33af1823",
   "metadata": {},
   "outputs": [
    {
     "data": {
      "text/html": [
       "<div>\n",
       "<style scoped>\n",
       "    .dataframe tbody tr th:only-of-type {\n",
       "        vertical-align: middle;\n",
       "    }\n",
       "\n",
       "    .dataframe tbody tr th {\n",
       "        vertical-align: top;\n",
       "    }\n",
       "\n",
       "    .dataframe thead th {\n",
       "        text-align: right;\n",
       "    }\n",
       "</style>\n",
       "<table border=\"1\" class=\"dataframe\">\n",
       "  <thead>\n",
       "    <tr style=\"text-align: right;\">\n",
       "      <th></th>\n",
       "      <th>Demand</th>\n",
       "      <th>Price</th>\n",
       "    </tr>\n",
       "  </thead>\n",
       "  <tbody>\n",
       "    <tr>\n",
       "      <th>0</th>\n",
       "      <td>400</td>\n",
       "      <td>10.0</td>\n",
       "    </tr>\n",
       "    <tr>\n",
       "      <th>1</th>\n",
       "      <td>380</td>\n",
       "      <td>12.0</td>\n",
       "    </tr>\n",
       "    <tr>\n",
       "      <th>2</th>\n",
       "      <td>370</td>\n",
       "      <td>13.0</td>\n",
       "    </tr>\n",
       "    <tr>\n",
       "      <th>3</th>\n",
       "      <td>390</td>\n",
       "      <td>11.0</td>\n",
       "    </tr>\n",
       "    <tr>\n",
       "      <th>4</th>\n",
       "      <td>395</td>\n",
       "      <td>10.5</td>\n",
       "    </tr>\n",
       "  </tbody>\n",
       "</table>\n",
       "</div>"
      ],
      "text/plain": [
       "   Demand  Price\n",
       "0     400   10.0\n",
       "1     380   12.0\n",
       "2     370   13.0\n",
       "3     390   11.0\n",
       "4     395   10.5"
      ]
     },
     "execution_count": 15,
     "metadata": {},
     "output_type": "execute_result"
    }
   ],
   "source": [
    "pricing = pd.read_excel(\"pricing.xlsx\")\n",
    "pricing.head()"
   ]
  },
  {
   "cell_type": "code",
   "execution_count": 16,
   "id": "de3eca19-08f6-4b9b-b6cc-7563e5fc33c7",
   "metadata": {},
   "outputs": [
    {
     "name": "stdout",
     "output_type": "stream",
     "text": [
      "[[10. ]\n",
      " [12. ]\n",
      " [13. ]\n",
      " [11. ]\n",
      " [10.5]\n",
      " [ 9. ]\n",
      " [ 7. ]\n",
      " [ 8.8]\n",
      " [13. ]]\n",
      "0    400\n",
      "1    380\n",
      "2    370\n",
      "3    390\n",
      "4    395\n",
      "5    410\n",
      "6    430\n",
      "7    412\n",
      "8    370\n",
      "Name: Demand, dtype: int64\n"
     ]
    }
   ],
   "source": [
    "X = pricing[\"Price\"].values.reshape(-1,1)\n",
    "print(X)\n",
    "Y = pricing[\"Demand\"]\n",
    "print(Y)"
   ]
  },
  {
   "cell_type": "code",
   "execution_count": 17,
   "id": "973c2cb1-9062-404c-b40b-e061906fa9ef",
   "metadata": {},
   "outputs": [
    {
     "data": {
      "text/html": [
       "<style>#sk-container-id-1 {color: black;background-color: white;}#sk-container-id-1 pre{padding: 0;}#sk-container-id-1 div.sk-toggleable {background-color: white;}#sk-container-id-1 label.sk-toggleable__label {cursor: pointer;display: block;width: 100%;margin-bottom: 0;padding: 0.3em;box-sizing: border-box;text-align: center;}#sk-container-id-1 label.sk-toggleable__label-arrow:before {content: \"▸\";float: left;margin-right: 0.25em;color: #696969;}#sk-container-id-1 label.sk-toggleable__label-arrow:hover:before {color: black;}#sk-container-id-1 div.sk-estimator:hover label.sk-toggleable__label-arrow:before {color: black;}#sk-container-id-1 div.sk-toggleable__content {max-height: 0;max-width: 0;overflow: hidden;text-align: left;background-color: #f0f8ff;}#sk-container-id-1 div.sk-toggleable__content pre {margin: 0.2em;color: black;border-radius: 0.25em;background-color: #f0f8ff;}#sk-container-id-1 input.sk-toggleable__control:checked~div.sk-toggleable__content {max-height: 200px;max-width: 100%;overflow: auto;}#sk-container-id-1 input.sk-toggleable__control:checked~label.sk-toggleable__label-arrow:before {content: \"▾\";}#sk-container-id-1 div.sk-estimator input.sk-toggleable__control:checked~label.sk-toggleable__label {background-color: #d4ebff;}#sk-container-id-1 div.sk-label input.sk-toggleable__control:checked~label.sk-toggleable__label {background-color: #d4ebff;}#sk-container-id-1 input.sk-hidden--visually {border: 0;clip: rect(1px 1px 1px 1px);clip: rect(1px, 1px, 1px, 1px);height: 1px;margin: -1px;overflow: hidden;padding: 0;position: absolute;width: 1px;}#sk-container-id-1 div.sk-estimator {font-family: monospace;background-color: #f0f8ff;border: 1px dotted black;border-radius: 0.25em;box-sizing: border-box;margin-bottom: 0.5em;}#sk-container-id-1 div.sk-estimator:hover {background-color: #d4ebff;}#sk-container-id-1 div.sk-parallel-item::after {content: \"\";width: 100%;border-bottom: 1px solid gray;flex-grow: 1;}#sk-container-id-1 div.sk-label:hover label.sk-toggleable__label {background-color: #d4ebff;}#sk-container-id-1 div.sk-serial::before {content: \"\";position: absolute;border-left: 1px solid gray;box-sizing: border-box;top: 0;bottom: 0;left: 50%;z-index: 0;}#sk-container-id-1 div.sk-serial {display: flex;flex-direction: column;align-items: center;background-color: white;padding-right: 0.2em;padding-left: 0.2em;position: relative;}#sk-container-id-1 div.sk-item {position: relative;z-index: 1;}#sk-container-id-1 div.sk-parallel {display: flex;align-items: stretch;justify-content: center;background-color: white;position: relative;}#sk-container-id-1 div.sk-item::before, #sk-container-id-1 div.sk-parallel-item::before {content: \"\";position: absolute;border-left: 1px solid gray;box-sizing: border-box;top: 0;bottom: 0;left: 50%;z-index: -1;}#sk-container-id-1 div.sk-parallel-item {display: flex;flex-direction: column;z-index: 1;position: relative;background-color: white;}#sk-container-id-1 div.sk-parallel-item:first-child::after {align-self: flex-end;width: 50%;}#sk-container-id-1 div.sk-parallel-item:last-child::after {align-self: flex-start;width: 50%;}#sk-container-id-1 div.sk-parallel-item:only-child::after {width: 0;}#sk-container-id-1 div.sk-dashed-wrapped {border: 1px dashed gray;margin: 0 0.4em 0.5em 0.4em;box-sizing: border-box;padding-bottom: 0.4em;background-color: white;}#sk-container-id-1 div.sk-label label {font-family: monospace;font-weight: bold;display: inline-block;line-height: 1.2em;}#sk-container-id-1 div.sk-label-container {text-align: center;}#sk-container-id-1 div.sk-container {/* jupyter's `normalize.less` sets `[hidden] { display: none; }` but bootstrap.min.css set `[hidden] { display: none !important; }` so we also need the `!important` here to be able to override the default hidden behavior on the sphinx rendered scikit-learn.org. See: https://github.com/scikit-learn/scikit-learn/issues/21755 */display: inline-block !important;position: relative;}#sk-container-id-1 div.sk-text-repr-fallback {display: none;}</style><div id=\"sk-container-id-1\" class=\"sk-top-container\"><div class=\"sk-text-repr-fallback\"><pre>LinearRegression()</pre><b>In a Jupyter environment, please rerun this cell to show the HTML representation or trust the notebook. <br />On GitHub, the HTML representation is unable to render, please try loading this page with nbviewer.org.</b></div><div class=\"sk-container\" hidden><div class=\"sk-item\"><div class=\"sk-estimator sk-toggleable\"><input class=\"sk-toggleable__control sk-hidden--visually\" id=\"sk-estimator-id-1\" type=\"checkbox\" checked><label for=\"sk-estimator-id-1\" class=\"sk-toggleable__label sk-toggleable__label-arrow\">LinearRegression</label><div class=\"sk-toggleable__content\"><pre>LinearRegression()</pre></div></div></div></div></div>"
      ],
      "text/plain": [
       "LinearRegression()"
      ]
     },
     "execution_count": 17,
     "metadata": {},
     "output_type": "execute_result"
    }
   ],
   "source": [
    "model = LinearRegression()\n",
    "model.fit(X,Y)"
   ]
  },
  {
   "cell_type": "code",
   "execution_count": 18,
   "id": "3caf7c9f-5352-434f-9697-33515a1ff3ee",
   "metadata": {},
   "outputs": [
    {
     "name": "stdout",
     "output_type": "stream",
     "text": [
      "[-10.]\n",
      "500.0\n"
     ]
    }
   ],
   "source": [
    "print(model.coef_)\n",
    "print(model.intercept_)"
   ]
  },
  {
   "cell_type": "code",
   "execution_count": 19,
   "id": "693955a3-9c9c-403e-b9f7-da65a3773f09",
   "metadata": {},
   "outputs": [
    {
     "data": {
      "text/html": [
       "<div>\n",
       "<style scoped>\n",
       "    .dataframe tbody tr th:only-of-type {\n",
       "        vertical-align: middle;\n",
       "    }\n",
       "\n",
       "    .dataframe tbody tr th {\n",
       "        vertical-align: top;\n",
       "    }\n",
       "\n",
       "    .dataframe thead th {\n",
       "        text-align: right;\n",
       "    }\n",
       "</style>\n",
       "<table border=\"1\" class=\"dataframe\">\n",
       "  <thead>\n",
       "    <tr style=\"text-align: right;\">\n",
       "      <th></th>\n",
       "      <th>Demand</th>\n",
       "      <th>Price</th>\n",
       "      <th>forecast</th>\n",
       "    </tr>\n",
       "  </thead>\n",
       "  <tbody>\n",
       "    <tr>\n",
       "      <th>0</th>\n",
       "      <td>400</td>\n",
       "      <td>10.0</td>\n",
       "      <td>400.0</td>\n",
       "    </tr>\n",
       "    <tr>\n",
       "      <th>1</th>\n",
       "      <td>380</td>\n",
       "      <td>12.0</td>\n",
       "      <td>380.0</td>\n",
       "    </tr>\n",
       "    <tr>\n",
       "      <th>2</th>\n",
       "      <td>370</td>\n",
       "      <td>13.0</td>\n",
       "      <td>370.0</td>\n",
       "    </tr>\n",
       "    <tr>\n",
       "      <th>3</th>\n",
       "      <td>390</td>\n",
       "      <td>11.0</td>\n",
       "      <td>390.0</td>\n",
       "    </tr>\n",
       "    <tr>\n",
       "      <th>4</th>\n",
       "      <td>395</td>\n",
       "      <td>10.5</td>\n",
       "      <td>395.0</td>\n",
       "    </tr>\n",
       "    <tr>\n",
       "      <th>5</th>\n",
       "      <td>410</td>\n",
       "      <td>9.0</td>\n",
       "      <td>410.0</td>\n",
       "    </tr>\n",
       "    <tr>\n",
       "      <th>6</th>\n",
       "      <td>430</td>\n",
       "      <td>7.0</td>\n",
       "      <td>430.0</td>\n",
       "    </tr>\n",
       "    <tr>\n",
       "      <th>7</th>\n",
       "      <td>412</td>\n",
       "      <td>8.8</td>\n",
       "      <td>412.0</td>\n",
       "    </tr>\n",
       "    <tr>\n",
       "      <th>8</th>\n",
       "      <td>370</td>\n",
       "      <td>13.0</td>\n",
       "      <td>370.0</td>\n",
       "    </tr>\n",
       "  </tbody>\n",
       "</table>\n",
       "</div>"
      ],
      "text/plain": [
       "   Demand  Price  forecast\n",
       "0     400   10.0     400.0\n",
       "1     380   12.0     380.0\n",
       "2     370   13.0     370.0\n",
       "3     390   11.0     390.0\n",
       "4     395   10.5     395.0\n",
       "5     410    9.0     410.0\n",
       "6     430    7.0     430.0\n",
       "7     412    8.8     412.0\n",
       "8     370   13.0     370.0"
      ]
     },
     "execution_count": 19,
     "metadata": {},
     "output_type": "execute_result"
    }
   ],
   "source": [
    "pricing[\"forecast\"]=model.predict(X)\n",
    "pricing"
   ]
  },
  {
   "cell_type": "code",
   "execution_count": 20,
   "id": "b1f53dca-90aa-4cc1-b071-07bea298f55a",
   "metadata": {},
   "outputs": [],
   "source": [
    "#Chi-square test\n",
    "from scipy.stats import norm,normaltest,kstest\n",
    "import scipy.stats as st"
   ]
  },
  {
   "cell_type": "code",
   "execution_count": 21,
   "id": "972a2f56-c019-44a1-9375-8956cf9ab588",
   "metadata": {},
   "outputs": [
    {
     "data": {
      "text/html": [
       "<div>\n",
       "<style scoped>\n",
       "    .dataframe tbody tr th:only-of-type {\n",
       "        vertical-align: middle;\n",
       "    }\n",
       "\n",
       "    .dataframe tbody tr th {\n",
       "        vertical-align: top;\n",
       "    }\n",
       "\n",
       "    .dataframe thead th {\n",
       "        text-align: right;\n",
       "    }\n",
       "</style>\n",
       "<table border=\"1\" class=\"dataframe\">\n",
       "  <thead>\n",
       "    <tr style=\"text-align: right;\">\n",
       "      <th></th>\n",
       "      <th>day</th>\n",
       "      <th>grape_juice</th>\n",
       "      <th>cantalop_juice</th>\n",
       "      <th>apple_juice</th>\n",
       "    </tr>\n",
       "  </thead>\n",
       "  <tbody>\n",
       "    <tr>\n",
       "      <th>0</th>\n",
       "      <td>1</td>\n",
       "      <td>0</td>\n",
       "      <td>10</td>\n",
       "      <td>96</td>\n",
       "    </tr>\n",
       "    <tr>\n",
       "      <th>1</th>\n",
       "      <td>2</td>\n",
       "      <td>3</td>\n",
       "      <td>10</td>\n",
       "      <td>92</td>\n",
       "    </tr>\n",
       "    <tr>\n",
       "      <th>2</th>\n",
       "      <td>3</td>\n",
       "      <td>1</td>\n",
       "      <td>9</td>\n",
       "      <td>84</td>\n",
       "    </tr>\n",
       "    <tr>\n",
       "      <th>3</th>\n",
       "      <td>4</td>\n",
       "      <td>2</td>\n",
       "      <td>10</td>\n",
       "      <td>113</td>\n",
       "    </tr>\n",
       "    <tr>\n",
       "      <th>4</th>\n",
       "      <td>5</td>\n",
       "      <td>1</td>\n",
       "      <td>10</td>\n",
       "      <td>65</td>\n",
       "    </tr>\n",
       "  </tbody>\n",
       "</table>\n",
       "</div>"
      ],
      "text/plain": [
       "   day  grape_juice  cantalop_juice  apple_juice\n",
       "0    1            0              10           96\n",
       "1    2            3              10           92\n",
       "2    3            1               9           84\n",
       "3    4            2              10          113\n",
       "4    5            1              10           65"
      ]
     },
     "execution_count": 21,
     "metadata": {},
     "output_type": "execute_result"
    }
   ],
   "source": [
    "skus = pd.read_csv(\"sku_distributions.csv\")\n",
    "skus.head(5)"
   ]
  },
  {
   "cell_type": "code",
   "execution_count": 22,
   "id": "1ca53c10-48f1-47ae-9f51-30a24ace14c3",
   "metadata": {},
   "outputs": [],
   "source": [
    "dist_name = [\"norm\",\"exponweib\",\"weibull_max\",\"weibull_min\",\"pareto\"]"
   ]
  },
  {
   "cell_type": "code",
   "execution_count": 23,
   "id": "536d8f69-711b-4d26-b821-5106fd0da5d1",
   "metadata": {},
   "outputs": [],
   "source": [
    "apple_juice = np.array(skus[\"apple_juice\"])\n",
    "mean = apple_juice.mean()\n",
    "sd = apple_juice.std()"
   ]
  },
  {
   "cell_type": "code",
   "execution_count": 24,
   "id": "477ce8b7-f66e-4b63-b507-f4cf9c2d2968",
   "metadata": {},
   "outputs": [
    {
     "data": {
      "text/plain": [
       "KstestResult(statistic=0.04011911785947586, pvalue=0.6423077067552097, statistic_location=100, statistic_sign=1)"
      ]
     },
     "execution_count": 24,
     "metadata": {},
     "output_type": "execute_result"
    }
   ],
   "source": [
    "kstest(apple_juice,\"norm\",args=(mean,sd))"
   ]
  },
  {
   "cell_type": "code",
   "execution_count": 25,
   "id": "53c378ca-8f17-4e34-af24-5d13b7cd97fc",
   "metadata": {},
   "outputs": [
    {
     "data": {
      "text/plain": [
       "(100.73873873873873, 20.190256493370235)"
      ]
     },
     "execution_count": 25,
     "metadata": {},
     "output_type": "execute_result"
    }
   ],
   "source": [
    "results = []\n",
    "parameters = {}\n",
    "norm_param = getattr(st, \"norm\")\n",
    "norm_param.fit(apple_juice)"
   ]
  },
  {
   "cell_type": "code",
   "execution_count": 26,
   "id": "705ea46b-4d3c-4cc5-87d4-977c83502210",
   "metadata": {},
   "outputs": [
    {
     "name": "stdout",
     "output_type": "stream",
     "text": [
      "the results for distnormis0.6423077067552097\n",
      "the results for distexponweibis1.1842591378527938e-172\n",
      "the results for distweibull_maxis2.2685136143704807e-247\n",
      "the results for distweibull_minis0.34810501680216566\n",
      "the results for distparetois1.6172750367237283e-31\n"
     ]
    },
    {
     "name": "stderr",
     "output_type": "stream",
     "text": [
      "D:\\Anaconda\\Lib\\site-packages\\scipy\\stats\\_continuous_distns.py:2008: RuntimeWarning: invalid value encountered in add\n",
      "  logp = (np.log(a) + np.log(c) + sc.xlogy(a - 1.0, exm1c) +\n"
     ]
    }
   ],
   "source": [
    "for dist in dist_name:\n",
    "  param = getattr(st, dist)\n",
    "  fitting = param.fit(apple_juice)\n",
    "  test = kstest(apple_juice, dist,args = fitting)\n",
    "  results.append([dist,test])\n",
    "  print(\"the results for dist\"+dist+\"is\"+str(test[1]))"
   ]
  }
 ],
 "metadata": {
  "kernelspec": {
   "display_name": "Python 3 (ipykernel)",
   "language": "python",
   "name": "python3"
  },
  "language_info": {
   "codemirror_mode": {
    "name": "ipython",
    "version": 3
   },
   "file_extension": ".py",
   "mimetype": "text/x-python",
   "name": "python",
   "nbconvert_exporter": "python",
   "pygments_lexer": "ipython3",
   "version": "3.11.7"
  }
 },
 "nbformat": 4,
 "nbformat_minor": 5
}
